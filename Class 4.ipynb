{
 "cells": [
  {
   "cell_type": "markdown",
   "metadata": {},
   "source": [
    "Functions"
   ]
  },
  {
   "cell_type": "code",
   "execution_count": 1,
   "metadata": {},
   "outputs": [],
   "source": [
    "def absolute_value (num):\n",
    "    '''This function will return the absolute value of entered number'''\n",
    "    if num > 0:\n",
    "        return(num)\n",
    "    else:\n",
    "        return(-num)"
   ]
  },
  {
   "cell_type": "code",
   "execution_count": 2,
   "metadata": {},
   "outputs": [
    {
     "data": {
      "text/plain": [
       "2"
      ]
     },
     "execution_count": 2,
     "metadata": {},
     "output_type": "execute_result"
    }
   ],
   "source": [
    "absolute_value(2)"
   ]
  },
  {
   "cell_type": "code",
   "execution_count": 3,
   "metadata": {},
   "outputs": [
    {
     "data": {
      "text/plain": [
       "2"
      ]
     },
     "execution_count": 3,
     "metadata": {},
     "output_type": "execute_result"
    }
   ],
   "source": [
    "absolute_value(-2)"
   ]
  },
  {
   "cell_type": "code",
   "execution_count": 4,
   "metadata": {},
   "outputs": [],
   "source": [
    "def test_fnc(name):\n",
    "    '''This function will Hello msg with name'''\n",
    "    return(print(\"Hello {}\".format(name)))"
   ]
  },
  {
   "cell_type": "code",
   "execution_count": 5,
   "metadata": {},
   "outputs": [
    {
     "name": "stdout",
     "output_type": "stream",
     "text": [
      "Hello Maheen\n"
     ]
    }
   ],
   "source": [
    "test_fnc('Maheen')"
   ]
  },
  {
   "cell_type": "code",
   "execution_count": 6,
   "metadata": {},
   "outputs": [
    {
     "name": "stdout",
     "output_type": "stream",
     "text": [
      "This function will Hello msg with name\n"
     ]
    }
   ],
   "source": [
    "print(test_fnc.__doc__)"
   ]
  },
  {
   "cell_type": "markdown",
   "metadata": {},
   "source": [
    "Local , Non-Local , and global varriable "
   ]
  },
  {
   "cell_type": "code",
   "execution_count": 7,
   "metadata": {},
   "outputs": [
    {
     "name": "stdout",
     "output_type": "stream",
     "text": [
      "Variable inside the function 10\n",
      "Variable outside the function 20\n"
     ]
    }
   ],
   "source": [
    "def my_fnc():\n",
    "    x = 10\n",
    "    print(\"Variable inside the function\", x)\n",
    "\n",
    "my_fnc()\n",
    "x = 20\n",
    "print(\"Variable outside the function\", x)"
   ]
  },
  {
   "cell_type": "code",
   "execution_count": 8,
   "metadata": {},
   "outputs": [
    {
     "name": "stdout",
     "output_type": "stream",
     "text": [
      "The age is Major\n",
      "The age is 34\n"
     ]
    }
   ],
   "source": [
    "def my_age(age):\n",
    "    if age > 18:\n",
    "        age = \"Major\" #----> local\n",
    "    else:\n",
    "        age = \"Minor\"\n",
    "    print(\"The age is\",age)\n",
    "\n",
    "age = 34 #-----> global\n",
    "my_age(age)\n",
    "print(\"The age is\",age)"
   ]
  },
  {
   "cell_type": "markdown",
   "metadata": {},
   "source": [
    "keyword global"
   ]
  },
  {
   "cell_type": "code",
   "execution_count": 9,
   "metadata": {},
   "outputs": [
    {
     "name": "stdout",
     "output_type": "stream",
     "text": [
      "Variable inside the function 10\n",
      "Variable outside the function 10\n"
     ]
    }
   ],
   "source": [
    "def my_fnc():\n",
    "    global x\n",
    "    x = 10\n",
    "    print(\"Variable inside the function\", x)\n",
    "\n",
    "x = 20\n",
    "my_fnc()\n",
    "print(\"Variable outside the function\", x)"
   ]
  },
  {
   "cell_type": "markdown",
   "metadata": {},
   "source": [
    "Passing parameters to function"
   ]
  },
  {
   "cell_type": "code",
   "execution_count": 10,
   "metadata": {},
   "outputs": [],
   "source": [
    "def messaging(name,msg, msg_num=1):\n",
    "    print(f\"There is a message for {name} and the message is {msg}\")"
   ]
  },
  {
   "cell_type": "code",
   "execution_count": 11,
   "metadata": {},
   "outputs": [
    {
     "name": "stdout",
     "output_type": "stream",
     "text": [
      "There is a message for Maheen and the message is wake up\n"
     ]
    }
   ],
   "source": [
    "messaging(\"Maheen\",\"wake up\")    ## ---> positional aurgument"
   ]
  },
  {
   "cell_type": "code",
   "execution_count": 12,
   "metadata": {},
   "outputs": [
    {
     "name": "stdout",
     "output_type": "stream",
     "text": [
      "There is a message for Maheen and the message is wake up.\n"
     ]
    }
   ],
   "source": [
    "messaging(name=\"Maheen\",msg=\"wake up.\")  #--->keyword aurgument"
   ]
  },
  {
   "cell_type": "code",
   "execution_count": 13,
   "metadata": {},
   "outputs": [
    {
     "name": "stdout",
     "output_type": "stream",
     "text": [
      "There is a message for Maheen and the message is wake up.\n"
     ]
    }
   ],
   "source": [
    "messaging(msg=\"wake up.\",name=\"Maheen\")"
   ]
  },
  {
   "cell_type": "code",
   "execution_count": 14,
   "metadata": {},
   "outputs": [
    {
     "name": "stdout",
     "output_type": "stream",
     "text": [
      "There is a message for Maheen and the message is wake up and do work.\n"
     ]
    }
   ],
   "source": [
    "messaging(\"Maheen\",msg=\"wake up and do work.\",msg_num = 2) "
   ]
  },
  {
   "cell_type": "markdown",
   "metadata": {},
   "source": [
    "Dealing with unknown no of aurguments"
   ]
  },
  {
   "cell_type": "code",
   "execution_count": 26,
   "metadata": {},
   "outputs": [],
   "source": [
    "def pizza_order(Size,piece,flavour,*toppings):\n",
    "    print(f\"You have ordered a {flavour} {Size} pizza divided into {piece} pieces with topping {toppings}\")"
   ]
  },
  {
   "cell_type": "code",
   "execution_count": 25,
   "metadata": {},
   "outputs": [
    {
     "name": "stdout",
     "output_type": "stream",
     "text": [
      "Please enter pizza size: large\n",
      "please enter in how much pieces of your pizza want: 4\n",
      "Please enter pizza flavour: chicken tikka\n",
      "Please enter no of toppings you want on your pizza: 4\n",
      "Please enter pizza topping 0: onion\n",
      "Please enter pizza topping 1: ball papers\n",
      "Please enter pizza topping 2: tomotes\n",
      "Please enter pizza topping 3: olives\n",
      "You have ordered a chicken tikka large pizza divided into 4 pieces\n"
     ]
    }
   ],
   "source": [
    "Size = input(\"Please enter pizza size: \")\n",
    "piece = input(\"please enter in how much pieces of your pizza want: \")\n",
    "flavour = input(\"Please enter pizza flavour: \")\n",
    "no_of_toppings = int(input(\"Please enter no of toppings you want on your pizza: \"))\n",
    "toppings = []\n",
    "for i in range(no_of_toppings):\n",
    "    topping = input(f\"Please enter pizza topping {i}: \")\n",
    "    toppings.append(topping)\n",
    "if no_of_toppings == 1:\n",
    "    pizza_order(Size,piece,flavour,toppings[0])\n",
    "if no_of_toppings == 2:\n",
    "    pizza_order(Size,piece,flavour,toppings[0],toppings[1])\n",
    "if no_of_toppings == 3:\n",
    "    pizza_order(Size,piece,flavour,toppings[0],toppings[1],toppings[2])\n",
    "if no_of_toppings == 4:\n",
    "    pizza_order(Size,piece,flavour,toppings[0],toppings[1],toppings[2],toppings[3])\n",
    "if no_of_toppings == 5:\n",
    "    pizza_order(Size,piece,flavour,toppings[0],toppings[1],toppings[2],toppings[3],toppings[4])"
   ]
  },
  {
   "cell_type": "code",
   "execution_count": null,
   "metadata": {},
   "outputs": [],
   "source": []
  },
  {
   "cell_type": "code",
   "execution_count": null,
   "metadata": {},
   "outputs": [],
   "source": []
  },
  {
   "cell_type": "code",
   "execution_count": null,
   "metadata": {},
   "outputs": [],
   "source": []
  }
 ],
 "metadata": {
  "kernelspec": {
   "display_name": "Python 3",
   "language": "python",
   "name": "python3"
  },
  "language_info": {
   "codemirror_mode": {
    "name": "ipython",
    "version": 3
   },
   "file_extension": ".py",
   "mimetype": "text/x-python",
   "name": "python",
   "nbconvert_exporter": "python",
   "pygments_lexer": "ipython3",
   "version": "3.7.4"
  }
 },
 "nbformat": 4,
 "nbformat_minor": 2
}
