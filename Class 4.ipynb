{
 "cells": [
  {
   "cell_type": "markdown",
   "metadata": {},
   "source": [
    "Functions"
   ]
  },
  {
   "cell_type": "code",
   "execution_count": 1,
   "metadata": {},
   "outputs": [],
   "source": [
    "def absolute_value (num):\n",
    "    '''This function will return the absolute value of entered number'''\n",
    "    if num > 0:\n",
    "        return(num)\n",
    "    else:\n",
    "        return(-num)"
   ]
  },
  {
   "cell_type": "code",
   "execution_count": 2,
   "metadata": {},
   "outputs": [
    {
     "data": {
      "text/plain": [
       "2"
      ]
     },
     "execution_count": 2,
     "metadata": {},
     "output_type": "execute_result"
    }
   ],
   "source": [
    "absolute_value(2)"
   ]
  },
  {
   "cell_type": "code",
   "execution_count": 3,
   "metadata": {},
   "outputs": [
    {
     "data": {
      "text/plain": [
       "2"
      ]
     },
     "execution_count": 3,
     "metadata": {},
     "output_type": "execute_result"
    }
   ],
   "source": [
    "absolute_value(-2)"
   ]
  },
  {
   "cell_type": "code",
   "execution_count": 4,
   "metadata": {},
   "outputs": [],
   "source": [
    "def test_fnc(name):\n",
    "    '''This function will Hello msg with name'''\n",
    "    return(print(\"Hello {}\".format(name)))"
   ]
  },
  {
   "cell_type": "code",
   "execution_count": 5,
   "metadata": {},
   "outputs": [
    {
     "name": "stdout",
     "output_type": "stream",
     "text": [
      "Hello Maheen\n"
     ]
    }
   ],
   "source": [
    "test_fnc('Maheen')"
   ]
  },
  {
   "cell_type": "code",
   "execution_count": 6,
   "metadata": {},
   "outputs": [
    {
     "name": "stdout",
     "output_type": "stream",
     "text": [
      "This function will Hello msg with name\n"
     ]
    }
   ],
   "source": [
    "print(test_fnc.__doc__)"
   ]
  },
  {
   "cell_type": "markdown",
   "metadata": {},
   "source": [
    "Local , Non-Local , and global varriable "
   ]
  },
  {
   "cell_type": "code",
   "execution_count": 7,
   "metadata": {},
   "outputs": [
    {
     "name": "stdout",
     "output_type": "stream",
     "text": [
      "Variable inside the function 10\n",
      "Variable outside the function 20\n"
     ]
    }
   ],
   "source": [
    "def my_fnc():\n",
    "    x = 10\n",
    "    print(\"Variable inside the function\", x)\n",
    "\n",
    "my_fnc()\n",
    "x = 20\n",
    "print(\"Variable outside the function\", x)"
   ]
  },
  {
   "cell_type": "code",
   "execution_count": 8,
   "metadata": {},
   "outputs": [
    {
     "name": "stdout",
     "output_type": "stream",
     "text": [
      "The age is Major\n",
      "The age is 34\n"
     ]
    }
   ],
   "source": [
    "def my_age(age):\n",
    "    if age > 18:\n",
    "        age = \"Major\" #----> local\n",
    "    else:\n",
    "        age = \"Minor\"\n",
    "    print(\"The age is\",age)\n",
    "\n",
    "age = 34 #-----> global\n",
    "my_age(age)\n",
    "print(\"The age is\",age)"
   ]
  },
  {
   "cell_type": "markdown",
   "metadata": {},
   "source": [
    "keyword global"
   ]
  },
  {
   "cell_type": "code",
   "execution_count": 9,
   "metadata": {},
   "outputs": [
    {
     "name": "stdout",
     "output_type": "stream",
     "text": [
      "Variable inside the function 10\n",
      "Variable outside the function 10\n"
     ]
    }
   ],
   "source": [
    "def my_fnc():\n",
    "    global x\n",
    "    x = 10\n",
    "    print(\"Variable inside the function\", x)\n",
    "\n",
    "x = 20\n",
    "my_fnc()\n",
    "print(\"Variable outside the function\", x)"
   ]
  },
  {
   "cell_type": "markdown",
   "metadata": {},
   "source": [
    "Passing parameters to function"
   ]
  },
  {
   "cell_type": "code",
   "execution_count": 10,
   "metadata": {},
   "outputs": [],
   "source": [
    "def messaging(name,msg, msg_num=1):\n",
    "    print(f\"There is a message for {name} and the message is {msg}\")"
   ]
  },
  {
   "cell_type": "code",
   "execution_count": 11,
   "metadata": {},
   "outputs": [
    {
     "name": "stdout",
     "output_type": "stream",
     "text": [
      "There is a message for Maheen and the message is wake up\n"
     ]
    }
   ],
   "source": [
    "messaging(\"Maheen\",\"wake up\")    ## ---> positional aurgument"
   ]
  },
  {
   "cell_type": "code",
   "execution_count": 12,
   "metadata": {},
   "outputs": [
    {
     "name": "stdout",
     "output_type": "stream",
     "text": [
      "There is a message for Maheen and the message is wake up.\n"
     ]
    }
   ],
   "source": [
    "messaging(name=\"Maheen\",msg=\"wake up.\")  #--->keyword aurgument"
   ]
  },
  {
   "cell_type": "code",
   "execution_count": 13,
   "metadata": {},
   "outputs": [
    {
     "name": "stdout",
     "output_type": "stream",
     "text": [
      "There is a message for Maheen and the message is wake up.\n"
     ]
    }
   ],
   "source": [
    "messaging(msg=\"wake up.\",name=\"Maheen\")"
   ]
  },
  {
   "cell_type": "code",
   "execution_count": 14,
   "metadata": {},
   "outputs": [
    {
     "name": "stdout",
     "output_type": "stream",
     "text": [
      "There is a message for Maheen and the message is wake up and do work.\n"
     ]
    }
   ],
   "source": [
    "messaging(\"Maheen\",msg=\"wake up and do work.\",msg_num = 2) "
   ]
  },
  {
   "cell_type": "markdown",
   "metadata": {},
   "source": [
    "Dealing with unknown no of aurguments"
   ]
  },
  {
   "cell_type": "code",
   "execution_count": 15,
   "metadata": {},
   "outputs": [],
   "source": [
    "def pizza_order(Size,piece,flavour,*toppings):\n",
    "    print(f\"You have ordered a {flavour} {Size} pizza divided into {piece} pieces with topping {toppings}\")"
   ]
  },
  {
   "cell_type": "code",
   "execution_count": 17,
   "metadata": {},
   "outputs": [
    {
     "name": "stdout",
     "output_type": "stream",
     "text": [
      "Please enter pizza size: large\n",
      "please enter in how much pieces of your pizza want: 4\n",
      "Please enter pizza flavour: Fajita\n",
      "Please enter no of toppings you want on your pizza: 3\n",
      "Please enter pizza topping 0: Onion\n",
      "Please enter pizza topping 1: Cheese\n",
      "Please enter pizza topping 2: olives\n",
      "You have ordered a Fajita large pizza divided into 4 pieces with topping ('Onion', 'Cheese', 'olives')\n"
     ]
    }
   ],
   "source": [
    "Size = input(\"Please enter pizza size: \")\n",
    "piece = input(\"please enter in how much pieces of your pizza want: \")\n",
    "flavour = input(\"Please enter pizza flavour: \")\n",
    "no_of_toppings = int(input(\"Please enter no of toppings you want on your pizza: \"))\n",
    "toppings = []\n",
    "for i in range(no_of_toppings):\n",
    "    topping = input(f\"Please enter pizza topping {i}: \")\n",
    "    toppings.append(topping)\n",
    "if no_of_toppings == 1:\n",
    "    pizza_order(Size,piece,flavour,toppings[0])\n",
    "if no_of_toppings == 2:\n",
    "    pizza_order(Size,piece,flavour,toppings[0],toppings[1])\n",
    "if no_of_toppings == 3:\n",
    "    pizza_order(Size,piece,flavour,toppings[0],toppings[1],toppings[2])\n",
    "if no_of_toppings == 4:\n",
    "    pizza_order(Size,piece,flavour,toppings[0],toppings[1],toppings[2],toppings[3])\n",
    "if no_of_toppings == 5:\n",
    "    pizza_order(Size,piece,flavour,toppings[0],toppings[1],toppings[2],toppings[3],toppings[4])"
   ]
  },
  {
   "cell_type": "code",
   "execution_count": 18,
   "metadata": {},
   "outputs": [
    {
     "name": "stdout",
     "output_type": "stream",
     "text": [
      "Name :  SyedaMaheen\n",
      "profession :  Student\n",
      "age :  19\n"
     ]
    }
   ],
   "source": [
    "def Basic_info(fn, ln, **additional_info):\n",
    "    print(\"Name : \", fn+ln)\n",
    "    for key,value in additional_info.items():\n",
    "        print(key + \" :  \" + value)\n",
    "        \n",
    "Basic_info('Syeda', 'Maheen', profession = 'Student', age = '19' )"
   ]
  },
  {
   "cell_type": "markdown",
   "metadata": {},
   "source": [
    "Function in term of varriables"
   ]
  },
  {
   "cell_type": "code",
   "execution_count": 19,
   "metadata": {},
   "outputs": [
    {
     "name": "stdout",
     "output_type": "stream",
     "text": [
      "The age is Major\n"
     ]
    }
   ],
   "source": [
    "# for treating function as a varriable we must have to give return statement, so that function \n",
    "# have a value as a variable demand a value\n",
    "\n",
    "def my_age(age):\n",
    "    if age > 18:\n",
    "        age = \"Major\" \n",
    "    else:\n",
    "        age = \"Minor\"\n",
    "    print(\"The age is\",age)\n",
    "\n",
    "age = 34\n",
    "my_age(age)\n"
   ]
  },
  {
   "cell_type": "code",
   "execution_count": 20,
   "metadata": {},
   "outputs": [
    {
     "name": "stdout",
     "output_type": "stream",
     "text": [
      "The age is Major\n",
      "None\n"
     ]
    }
   ],
   "source": [
    "def my_age(age):\n",
    "    if age > 18:\n",
    "        age = \"Major\" \n",
    "    else:\n",
    "        age = \"Minor\"\n",
    "    print(\"The age is\",age)\n",
    "\n",
    "age = 34\n",
    "print(my_age(age))  # returning none because we are returning anything in function"
   ]
  },
  {
   "cell_type": "code",
   "execution_count": 21,
   "metadata": {},
   "outputs": [
    {
     "name": "stdout",
     "output_type": "stream",
     "text": [
      "The age is Major\n",
      "Major\n"
     ]
    }
   ],
   "source": [
    "def my_age(age):\n",
    "    if age > 18:\n",
    "        age = \"Major\" \n",
    "    else:\n",
    "        age = \"Minor\"\n",
    "    print(\"The age is\",age)\n",
    "    return(age)\n",
    "\n",
    "age = 34\n",
    "print(my_age(age)) "
   ]
  },
  {
   "cell_type": "code",
   "execution_count": 22,
   "metadata": {},
   "outputs": [
    {
     "name": "stdout",
     "output_type": "stream",
     "text": [
      "The age is Major\n"
     ]
    }
   ],
   "source": [
    "def my_age(age):\n",
    "    if age > 18:\n",
    "        age = \"Major\" \n",
    "    else:\n",
    "        age = \"Minor\"\n",
    "    print(\"The age is\",age)\n",
    "    return(age)\n",
    "\n",
    "age = 34\n",
    "list_data = my_age(age) "
   ]
  },
  {
   "cell_type": "code",
   "execution_count": 23,
   "metadata": {},
   "outputs": [
    {
     "data": {
      "text/plain": [
       "'Major'"
      ]
     },
     "execution_count": 23,
     "metadata": {},
     "output_type": "execute_result"
    }
   ],
   "source": [
    "list_data"
   ]
  },
  {
   "cell_type": "markdown",
   "metadata": {},
   "source": [
    "Function into a function"
   ]
  },
  {
   "cell_type": "code",
   "execution_count": 6,
   "metadata": {},
   "outputs": [
    {
     "name": "stdout",
     "output_type": "stream",
     "text": [
      "How much names do you want to enter : 3\n",
      "How much words do you have in your name : 2\n",
      "Enter Name 1 word of your name : Syeda\n",
      "Enter Name 2 word of your name : Maheen\n",
      "How much words do you have in your name : 3\n",
      "Enter Name 1 word of your name : Syed\n",
      "Enter Name 2 word of your name : Zia\n",
      "Enter Name 3 word of your name : uddin\n",
      "How much words do you have in your name : 2\n",
      "Enter Name 1 word of your name : Syeda\n",
      "Enter Name 2 word of your name : Farheen\n"
     ]
    }
   ],
   "source": [
    "\n",
    "Namees = []\n",
    "def Names(num):\n",
    "    def taking_names(num1):\n",
    "        name = \"\"\n",
    "        for i in range(num1):\n",
    "            Name = input(f\"Enter Name {i+1} word of your name : \")\n",
    "            name = name + \" \" + Name  \n",
    "        Namees.append(name)\n",
    "        return(Namees)\n",
    "    for i in range(num):\n",
    "        num1 = int(input(\"How much words do you have in your name : \"))\n",
    "        taking_names(num1)\n",
    "\n",
    "num = int(input(\"How much names do you want to enter : \"))       \n",
    "Names(num)\n",
    "\n",
    "# we can also access a function inside a functiob anfd define thst function outside of the funtion"
   ]
  },
  {
   "cell_type": "code",
   "execution_count": 7,
   "metadata": {},
   "outputs": [
    {
     "data": {
      "text/plain": [
       "[' Syeda Maheen', ' Syed Zia uddin', ' Syeda Farheen']"
      ]
     },
     "execution_count": 7,
     "metadata": {},
     "output_type": "execute_result"
    }
   ],
   "source": [
    "Namees"
   ]
  },
  {
   "cell_type": "markdown",
   "metadata": {},
   "source": [
    "Anonymous Function"
   ]
  },
  {
   "cell_type": "code",
   "execution_count": 1,
   "metadata": {},
   "outputs": [],
   "source": [
    "New_list = [1,2,3,4,5,6,7,8]\n",
    "modified_list = []\n",
    "triple = lambda x: x*3\n",
    "for list_item in New_list:\n",
    "    New_item = triple(list_item)\n",
    "    modified_list.append(New_item)"
   ]
  },
  {
   "cell_type": "code",
   "execution_count": 2,
   "metadata": {},
   "outputs": [
    {
     "data": {
      "text/plain": [
       "[3, 6, 9, 12, 15, 18, 21, 24]"
      ]
     },
     "execution_count": 2,
     "metadata": {},
     "output_type": "execute_result"
    }
   ],
   "source": [
    "modified_list"
   ]
  },
  {
   "cell_type": "code",
   "execution_count": 4,
   "metadata": {},
   "outputs": [
    {
     "data": {
      "text/plain": [
       "[2, 4, 6]"
      ]
     },
     "execution_count": 4,
     "metadata": {},
     "output_type": "execute_result"
    }
   ],
   "source": [
    "my_list = [1,2,3,4,5,6,7]\n",
    "\n",
    "New_list = list(filter(lambda x: x%2==0 , my_list))\n",
    "\n",
    "New_list"
   ]
  },
  {
   "cell_type": "code",
   "execution_count": 9,
   "metadata": {},
   "outputs": [],
   "source": [
    "new_list = [\"clean\",  \"eat\"]\n",
    "mod_list = []\n",
    "str_ing = lambda x: x + \"ing\"\n",
    "for items in new_list:\n",
    "    modi_list = str_ing(items)\n",
    "    mod_list.append(modi_list)"
   ]
  },
  {
   "cell_type": "code",
   "execution_count": 10,
   "metadata": {},
   "outputs": [
    {
     "data": {
      "text/plain": [
       "['cleaning', 'eating']"
      ]
     },
     "execution_count": 10,
     "metadata": {},
     "output_type": "execute_result"
    }
   ],
   "source": [
    "mod_list"
   ]
  },
  {
   "cell_type": "markdown",
   "metadata": {},
   "source": [
    "Types of function\n",
    "1. Builten function\n",
    "2.user defined function"
   ]
  },
  {
   "cell_type": "markdown",
   "metadata": {},
   "source": [
    "OOPS in python"
   ]
  },
  {
   "cell_type": "markdown",
   "metadata": {},
   "source": [
    "Learn from youtube lecture"
   ]
  },
  {
   "cell_type": "markdown",
   "metadata": {},
   "source": [
    "Class"
   ]
  },
  {
   "cell_type": "code",
   "execution_count": null,
   "metadata": {},
   "outputs": [],
   "source": []
  }
 ],
 "metadata": {
  "kernelspec": {
   "display_name": "Python 3",
   "language": "python",
   "name": "python3"
  },
  "language_info": {
   "codemirror_mode": {
    "name": "ipython",
    "version": 3
   },
   "file_extension": ".py",
   "mimetype": "text/x-python",
   "name": "python",
   "nbconvert_exporter": "python",
   "pygments_lexer": "ipython3",
   "version": "3.7.4"
  }
 },
 "nbformat": 4,
 "nbformat_minor": 2
}
