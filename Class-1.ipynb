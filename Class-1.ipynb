{
 "cells": [
  {
   "cell_type": "code",
   "execution_count": 1,
   "metadata": {},
   "outputs": [
    {
     "name": "stdout",
     "output_type": "stream",
     "text": [
      "Hello World\n"
     ]
    }
   ],
   "source": [
    "print(\"Hello World\")"
   ]
  },
  {
   "cell_type": "code",
   "execution_count": 3,
   "metadata": {},
   "outputs": [
    {
     "name": "stdout",
     "output_type": "stream",
     "text": [
      "Mark\n"
     ]
    }
   ],
   "source": [
    "lesson_auther = 'Mark'\n",
    "guy_who_keep_saying_his_name= \"Mark\"\n",
    "x = \"Mark\"\n",
    "\n",
    "print(x)"
   ]
  },
  {
   "cell_type": "code",
   "execution_count": 10,
   "metadata": {},
   "outputs": [
    {
     "name": "stdout",
     "output_type": "stream",
     "text": [
      "a=Python\n",
      "b=is\n",
      "c=a programming  and    \n",
      "       scripting language\n"
     ]
    }
   ],
   "source": [
    "a = 'Python'\n",
    "b = \"is\"\n",
    "c = '''a programming  and    \n",
    "       scripting language'''    # triple quote can also be use for string moreover when we have to right in multiple line\n",
    "\n",
    "print(\"a=\"+a)\n",
    "print(\"b=\"+b)\n",
    "print(\"c=\"+c)"
   ]
  },
  {
   "cell_type": "code",
   "execution_count": 11,
   "metadata": {},
   "outputs": [
    {
     "name": "stdout",
     "output_type": "stream",
     "text": [
      "a =  Python\n",
      "b =  is\n",
      "c =  a programming  and    \n",
      "       scripting language\n"
     ]
    }
   ],
   "source": [
    "print(f\"a = \",a)\n",
    "print(f\"b = \",b)\n",
    "print(f\"c = \",c)"
   ]
  },
  {
   "cell_type": "code",
   "execution_count": 17,
   "metadata": {},
   "outputs": [
    {
     "name": "stdout",
     "output_type": "stream",
     "text": [
      "a = Python \n",
      "b = is \n",
      "c = a programming  and    \n",
      "       scripting language\n"
     ]
    }
   ],
   "source": [
    "print(\"a = {} \\nb = {} \\nc = {}\".format(a,b,c))"
   ]
  },
  {
   "cell_type": "code",
   "execution_count": 12,
   "metadata": {},
   "outputs": [
    {
     "name": "stdout",
     "output_type": "stream",
     "text": [
      "Python is a programming  and    \n",
      "       scripting language\n"
     ]
    }
   ],
   "source": [
    "print(a,b,c)"
   ]
  },
  {
   "cell_type": "code",
   "execution_count": 18,
   "metadata": {},
   "outputs": [
    {
     "name": "stdout",
     "output_type": "stream",
     "text": [
      "He said, \"welcome to the world free of corona\"\n"
     ]
    }
   ],
   "source": [
    "#use of escape sentence\n",
    "print(\"He said, \\\"welcome to the world free of corona\\\"\")"
   ]
  },
  {
   "cell_type": "code",
   "execution_count": 19,
   "metadata": {},
   "outputs": [
    {
     "name": "stdout",
     "output_type": "stream",
     "text": [
      "He said, \"welcome to the world free of corona\"\n"
     ]
    }
   ],
   "source": [
    "# Mix with quotes\n",
    "print('He said, \\\"welcome to the world free of corona\\\"')"
   ]
  },
  {
   "cell_type": "code",
   "execution_count": 20,
   "metadata": {},
   "outputs": [],
   "source": [
    "int_identifier = 2"
   ]
  },
  {
   "cell_type": "code",
   "execution_count": 23,
   "metadata": {},
   "outputs": [
    {
     "data": {
      "text/plain": [
       "15"
      ]
     },
     "execution_count": 23,
     "metadata": {},
     "output_type": "execute_result"
    }
   ],
   "source": [
    "orignal_num = 5\n",
    "Num_to_be_added = 10\n",
    "New_num = orignal_num + Num_to_be_added\n",
    "New_num"
   ]
  },
  {
   "cell_type": "code",
   "execution_count": 24,
   "metadata": {},
   "outputs": [
    {
     "ename": "TypeError",
     "evalue": "unsupported operand type(s) for +: 'int' and 'str'",
     "output_type": "error",
     "traceback": [
      "\u001b[1;31m---------------------------------------------------------------------------\u001b[0m",
      "\u001b[1;31mTypeError\u001b[0m                                 Traceback (most recent call last)",
      "\u001b[1;32m<ipython-input-24-891abd45f41d>\u001b[0m in \u001b[0;36m<module>\u001b[1;34m\u001b[0m\n\u001b[0;32m      1\u001b[0m \u001b[0morignal_num\u001b[0m \u001b[1;33m=\u001b[0m \u001b[1;36m5\u001b[0m\u001b[1;33m\u001b[0m\u001b[1;33m\u001b[0m\u001b[0m\n\u001b[0;32m      2\u001b[0m \u001b[0mNum_to_be_added\u001b[0m \u001b[1;33m=\u001b[0m \u001b[1;34m'10'\u001b[0m\u001b[1;33m\u001b[0m\u001b[1;33m\u001b[0m\u001b[0m\n\u001b[1;32m----> 3\u001b[1;33m \u001b[0mNew_num\u001b[0m \u001b[1;33m=\u001b[0m \u001b[0morignal_num\u001b[0m \u001b[1;33m+\u001b[0m \u001b[0mNum_to_be_added\u001b[0m\u001b[1;33m\u001b[0m\u001b[1;33m\u001b[0m\u001b[0m\n\u001b[0m\u001b[0;32m      4\u001b[0m \u001b[0mNew_num\u001b[0m\u001b[1;33m\u001b[0m\u001b[1;33m\u001b[0m\u001b[0m\n",
      "\u001b[1;31mTypeError\u001b[0m: unsupported operand type(s) for +: 'int' and 'str'"
     ]
    }
   ],
   "source": [
    "orignal_num = 5\n",
    "Num_to_be_added = '10'\n",
    "New_num = orignal_num + Num_to_be_added\n",
    "New_num"
   ]
  },
  {
   "cell_type": "code",
   "execution_count": 27,
   "metadata": {},
   "outputs": [
    {
     "name": "stdout",
     "output_type": "stream",
     "text": [
      "This is testing for keyword\n"
     ]
    }
   ],
   "source": [
    "this_is_for_testing = \"This is testing for keyword\"\n",
    "print(this_is_for_testing)"
   ]
  },
  {
   "cell_type": "code",
   "execution_count": 29,
   "metadata": {},
   "outputs": [],
   "source": [
    "# python recommended to name a varriable with multi words and using underscore"
   ]
  },
  {
   "cell_type": "markdown",
   "metadata": {},
   "source": [
    "Type Casting"
   ]
  },
  {
   "cell_type": "code",
   "execution_count": 38,
   "metadata": {},
   "outputs": [
    {
     "name": "stdout",
     "output_type": "stream",
     "text": [
      "Data type of num_int is <class 'int'>\n",
      "Data type of num_float is <class 'float'>\n",
      "Data type of new_num is <class 'float'>\n"
     ]
    }
   ],
   "source": [
    "##  implicit type casting\n",
    "# in implicit python automatically convert datatype of of one varriable into another and this \n",
    "# process does not need any user envolvement\n",
    "num_int = 123\n",
    "num_float = 13.8\n",
    "new_num = num_int + num_float\n",
    "\n",
    "print(\"Data type of num_int is\",type(num_int))\n",
    "print(\"Data type of num_float is\",format(type(num_float)))\n",
    "print(f\"Data type of new_num is\",type(new_num))\n",
    "\n",
    "# here without defining python automatically define datatype of new_num as float by seeing \n",
    "# the value of new_num called implicit type casting"
   ]
  },
  {
   "cell_type": "code",
   "execution_count": 45,
   "metadata": {},
   "outputs": [
    {
     "name": "stdout",
     "output_type": "stream",
     "text": [
      "data type of num_int <class 'int'>\n",
      "data type of num_str before type casting <class 'str'>\n",
      "data type of num_str after type casting <class 'int'>\n",
      "Sum of both numbers is 673\n",
      "data type of sum numbers is <class 'int'>\n"
     ]
    }
   ],
   "source": [
    "num_int = 235\n",
    "num_str = \"438\"\n",
    "\n",
    "print(\"data type of num_int\",type(num_int))\n",
    "print(\"data type of num_str before type casting\",type(num_str))\n",
    "\n",
    "num_str = int(num_str) \n",
    "print(\"data type of num_str after type casting\",type(num_str))\n",
    "\n",
    "sum_num = num_int + num_str\n",
    "\n",
    "print(\"Sum of both numbers is\",sum_num)\n",
    "print(\"data type of sum numbers is\",type(sum_num))"
   ]
  },
  {
   "cell_type": "code",
   "execution_count": 44,
   "metadata": {},
   "outputs": [
    {
     "ename": "SyntaxError",
     "evalue": "can't assign to function call (<ipython-input-44-fd4ff33ffe41>, line 7)",
     "output_type": "error",
     "traceback": [
      "\u001b[1;36m  File \u001b[1;32m\"<ipython-input-44-fd4ff33ffe41>\"\u001b[1;36m, line \u001b[1;32m7\u001b[0m\n\u001b[1;33m    type(num_str) = \"int64\"\u001b[0m\n\u001b[1;37m                            ^\u001b[0m\n\u001b[1;31mSyntaxError\u001b[0m\u001b[1;31m:\u001b[0m can't assign to function call\n"
     ]
    }
   ],
   "source": [
    "num_int = 235\n",
    "num_str = \"438\"\n",
    "\n",
    "print(\"data type of num_int is\",type(num_int))\n",
    "print(\"data type of num_str before type casting is\",type(num_str))\n",
    "\n",
    "type(num_str) = \"int64\" \n",
    "\n",
    "sum_num = num_int + num_str\n",
    "\n",
    "print(\"Sum of both numbers is\",sum_num)\n",
    "print(\"data type of sum numbers is\",type(sum_num))"
   ]
  },
  {
   "cell_type": "code",
   "execution_count": null,
   "metadata": {},
   "outputs": [],
   "source": []
  }
 ],
 "metadata": {
  "kernelspec": {
   "display_name": "Python 3",
   "language": "python",
   "name": "python3"
  },
  "language_info": {
   "codemirror_mode": {
    "name": "ipython",
    "version": 3
   },
   "file_extension": ".py",
   "mimetype": "text/x-python",
   "name": "python",
   "nbconvert_exporter": "python",
   "pygments_lexer": "ipython3",
   "version": "3.7.4"
  }
 },
 "nbformat": 4,
 "nbformat_minor": 2
}
