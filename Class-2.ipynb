{
 "cells": [
  {
   "cell_type": "markdown",
   "metadata": {},
   "source": [
    "Data Type"
   ]
  },
  {
   "cell_type": "code",
   "execution_count": 1,
   "metadata": {},
   "outputs": [
    {
     "name": "stdout",
     "output_type": "stream",
     "text": [
      "35 is a type of <class 'int'>\n",
      "2.0 is a type of <class 'float'>\n",
      "(6+7j) is a type of <class 'complex'>\n"
     ]
    }
   ],
   "source": [
    "a = 35\n",
    "print(a,\"is a type of\",type(a))\n",
    "b = 2.0\n",
    "print(b,\"is a type of\",type(b))\n",
    "c = 6+7j\n",
    "print(c,\"is a type of\",type(c))"
   ]
  },
  {
   "cell_type": "code",
   "execution_count": 2,
   "metadata": {},
   "outputs": [
    {
     "name": "stdout",
     "output_type": "stream",
     "text": [
      "(6+7j) is a complex number?? True\n"
     ]
    }
   ],
   "source": [
    "print(c,\"is a complex number??\",isinstance(c,complex))  ## isinstance is use to check whether a perticular varriable is a instance(object) of this perticular datatype"
   ]
  },
  {
   "cell_type": "code",
   "execution_count": 3,
   "metadata": {},
   "outputs": [
    {
     "name": "stdout",
     "output_type": "stream",
     "text": [
      "2.0 is a complex number?? False\n"
     ]
    }
   ],
   "source": [
    "print(b,\"is a complex number??\",isinstance(b,complex))"
   ]
  },
  {
   "cell_type": "code",
   "execution_count": 4,
   "metadata": {},
   "outputs": [
    {
     "name": "stdout",
     "output_type": "stream",
     "text": [
      "i is int: True\n"
     ]
    }
   ],
   "source": [
    "i = 10\n",
    "print(\"i is int:\",isinstance(i,int))"
   ]
  },
  {
   "cell_type": "code",
   "execution_count": 5,
   "metadata": {},
   "outputs": [
    {
     "name": "stdout",
     "output_type": "stream",
     "text": [
      "f is float: True\n"
     ]
    }
   ],
   "source": [
    "f = 9.8\n",
    "print(\"f is float:\",isinstance(f,float))"
   ]
  },
  {
   "cell_type": "code",
   "execution_count": 6,
   "metadata": {},
   "outputs": [
    {
     "name": "stdout",
     "output_type": "stream",
     "text": [
      "s is string: True\n"
     ]
    }
   ],
   "source": [
    "string = \"s\"\n",
    "print(\"s is string:\",isinstance(string,str))"
   ]
  },
  {
   "cell_type": "code",
   "execution_count": 7,
   "metadata": {},
   "outputs": [
    {
     "name": "stdout",
     "output_type": "stream",
     "text": [
      "b is bytes: True\n"
     ]
    }
   ],
   "source": [
    "b = bytes(\"abc\", 'utf-8')\n",
    "print(\"b is bytes:\",isinstance(b , bytes))"
   ]
  },
  {
   "cell_type": "code",
   "execution_count": 8,
   "metadata": {},
   "outputs": [
    {
     "name": "stdout",
     "output_type": "stream",
     "text": [
      "tu is tuple: True\n"
     ]
    }
   ],
   "source": [
    "tu =(8,9)\n",
    "print(\"tu is tuple:\",isinstance(tu , tuple))"
   ]
  },
  {
   "cell_type": "code",
   "execution_count": 9,
   "metadata": {},
   "outputs": [
    {
     "name": "stdout",
     "output_type": "stream",
     "text": [
      "li is list: True\n"
     ]
    }
   ],
   "source": [
    "li = []\n",
    "print(\"li is list:\",isinstance(li , list))"
   ]
  },
  {
   "cell_type": "code",
   "execution_count": 10,
   "metadata": {},
   "outputs": [
    {
     "name": "stdout",
     "output_type": "stream",
     "text": [
      "di is dictionary True\n"
     ]
    }
   ],
   "source": [
    "di = {\"Name\":\"Maheen\"}\n",
    "print(\"di is dictionary\",isinstance(di , dict))"
   ]
  },
  {
   "cell_type": "markdown",
   "metadata": {},
   "source": [
    "Datatype-List"
   ]
  },
  {
   "cell_type": "code",
   "execution_count": 11,
   "metadata": {},
   "outputs": [
    {
     "name": "stdout",
     "output_type": "stream",
     "text": [
      "a[3] =  7\n",
      "a[0:3] =  [98, 76, 23]\n",
      "a[5:] =  [92, 64, 81]\n"
     ]
    }
   ],
   "source": [
    "a = [98,76,23,7,54,92,64,81]\n",
    "\n",
    "print(\"a[3] = \",a[3])\n",
    "print(\"a[0:3] = \",a[0:3])\n",
    "print(\"a[5:] = \",a[5:])"
   ]
  },
  {
   "cell_type": "code",
   "execution_count": 12,
   "metadata": {},
   "outputs": [
    {
     "name": "stdout",
     "output_type": "stream",
     "text": [
      "list of \"a\" before mutability is: [98, 76, 23, 7, 54, 92, 64, 81]\n",
      "list of \"a\" after mutability is: [98, 76, 23, 1000, 54, 92, 64, 81]\n",
      "The new list would be: [98, 76, 23, 1000, 54, 92, 64, 81, 32, 56]\n",
      "The new list would be: [98, 76, 23, 1000, 54, 92, 64, 81, 32, 56, 'Hello', 'world']\n",
      "The new list would be: ['New york', 98, 76, 23, 1000, 54, 92, 64, 81, 32, 56, 'Hello', 'world']\n",
      "The new list would be: ['New york', 98, 23, 1000, 54, 92, 64, 81, 32, 56, 'Hello', 'world']\n",
      "The new list would be: [98, 23, 1000, 54, 92, 64, 81, 32, 56, 'Hello', 'world']\n"
     ]
    }
   ],
   "source": [
    "# showing mutability(insert, subtract, append, delete element)\n",
    "\n",
    "print(\"list of \\\"a\\\" before mutability is:\",a[:])\n",
    "a[3] = 1000\n",
    "print(\"list of \\\"a\\\" after mutability is:\",a[:])\n",
    "a.append(32)\n",
    "a.append(56)\n",
    "print(\"The new list would be:\",a[:])\n",
    "a = a + [\"Hello\",\"world\"]\n",
    "print(\"The new list would be:\",a[:])\n",
    "a.insert(0,\"New york\")\n",
    "print(\"The new list would be:\",a[:])\n",
    "del a[2]\n",
    "print(\"The new list would be:\",a[:])\n",
    "a.remove(\"New york\")\n",
    "print(\"The new list would be:\",a[:])"
   ]
  },
  {
   "cell_type": "code",
   "execution_count": 21,
   "metadata": {},
   "outputs": [
    {
     "name": "stdout",
     "output_type": "stream",
     "text": [
      "Task to be done is ['Email Frank', 'Call Sarah', 'meet with zack']\n",
      "Task to be done is ['Email Frank', 'Call Sarah']\n",
      "latest task accomplished is meet with zack\n",
      "Task accomplished : ['meet with zack']\n",
      "Latest task accomplished : Email Frank\n",
      "Task accomplished : ['meet with zack', 'Email Frank']\n"
     ]
    }
   ],
   "source": [
    "tasks = [\"Email Frank\",\"Call Sarah\",\"meet with zack\"]\n",
    "print(\"Task to be done is\",tasks)\n",
    "\n",
    "latest_task_accomplished = tasks.pop(2)\n",
    "task_accomplished = []\n",
    "task_accomplished.append(latest_task_accomplished)\n",
    "\n",
    "\n",
    "print(\"Task to be done is\",tasks)\n",
    "print(\"latest task accomplished is\",latest_task_accomplished)\n",
    "print(\"Task accomplished :\",task_accomplished)\n",
    "\n",
    "\n",
    "latest_task_accomplished = tasks.pop(0)\n",
    "task_accomplished.append(latest_task_accomplished)\n",
    "print(\"Latest task accomplished :\",latest_task_accomplished)\n",
    "print(\"Task accomplished :\",task_accomplished)\n",
    "\n"
   ]
  },
  {
   "cell_type": "code",
   "execution_count": 24,
   "metadata": {},
   "outputs": [
    {
     "name": "stdout",
     "output_type": "stream",
     "text": [
      "data type of task accomplished is <class 'list'>\n",
      "data type of latest task accomplished <class 'str'>\n"
     ]
    }
   ],
   "source": [
    "print(\"data type of task accomplished is\",type(task_accomplished))\n",
    "print(\"data type of latest task accomplished\",type(latest_task_accomplished))   # popped in a varvable with the data type of popping element "
   ]
  },
  {
   "cell_type": "markdown",
   "metadata": {},
   "source": [
    "Datatype-Tupple"
   ]
  },
  {
   "cell_type": "code",
   "execution_count": 26,
   "metadata": {},
   "outputs": [
    {
     "name": "stdout",
     "output_type": "stream",
     "text": [
      "t[2] =  6.9\n",
      "t[0:3] =  (5, 'python', 6.9)\n"
     ]
    }
   ],
   "source": [
    "t = (5,\"python\",6.9,4+6j)\n",
    "\n",
    "print(\"t[2] = \",t[2])\n",
    "print(\"t[0:3] = \",t[0:3])"
   ]
  },
  {
   "cell_type": "code",
   "execution_count": 27,
   "metadata": {},
   "outputs": [
    {
     "ename": "TypeError",
     "evalue": "'tuple' object does not support item assignment",
     "output_type": "error",
     "traceback": [
      "\u001b[1;31m---------------------------------------------------------------------------\u001b[0m",
      "\u001b[1;31mTypeError\u001b[0m                                 Traceback (most recent call last)",
      "\u001b[1;32m<ipython-input-27-46ae2352fcdc>\u001b[0m in \u001b[0;36m<module>\u001b[1;34m\u001b[0m\n\u001b[0;32m      1\u001b[0m \u001b[1;31m# creat error as tupple is immutable\u001b[0m\u001b[1;33m\u001b[0m\u001b[1;33m\u001b[0m\u001b[1;33m\u001b[0m\u001b[0m\n\u001b[1;32m----> 2\u001b[1;33m \u001b[0mt\u001b[0m\u001b[1;33m[\u001b[0m\u001b[1;36m2\u001b[0m\u001b[1;33m]\u001b[0m \u001b[1;33m=\u001b[0m \u001b[1;36m2\u001b[0m\u001b[1;33m\u001b[0m\u001b[1;33m\u001b[0m\u001b[0m\n\u001b[0m",
      "\u001b[1;31mTypeError\u001b[0m: 'tuple' object does not support item assignment"
     ]
    }
   ],
   "source": [
    "# creat error as tupple is immutable \n",
    "t[2] = 2"
   ]
  },
  {
   "cell_type": "markdown",
   "metadata": {},
   "source": [
    "Datatype-String"
   ]
  },
  {
   "cell_type": "code",
   "execution_count": 28,
   "metadata": {},
   "outputs": [
    {
     "name": "stdout",
     "output_type": "stream",
     "text": [
      "string[4] =  o\n",
      "string[1:6] =  ello \n"
     ]
    }
   ],
   "source": [
    "string = \"Hello world\"\n",
    "print(\"string[4] = \",string[4])\n",
    "print(\"string[1:6] = \",string[1:6])"
   ]
  },
  {
   "cell_type": "code",
   "execution_count": 29,
   "metadata": {},
   "outputs": [
    {
     "ename": "TypeError",
     "evalue": "'str' object does not support item assignment",
     "output_type": "error",
     "traceback": [
      "\u001b[1;31m---------------------------------------------------------------------------\u001b[0m",
      "\u001b[1;31mTypeError\u001b[0m                                 Traceback (most recent call last)",
      "\u001b[1;32m<ipython-input-29-03c01db2562f>\u001b[0m in \u001b[0;36m<module>\u001b[1;34m\u001b[0m\n\u001b[0;32m      1\u001b[0m \u001b[1;31m# creat error as string immutable\u001b[0m\u001b[1;33m\u001b[0m\u001b[1;33m\u001b[0m\u001b[1;33m\u001b[0m\u001b[0m\n\u001b[1;32m----> 2\u001b[1;33m \u001b[0mstring\u001b[0m\u001b[1;33m[\u001b[0m\u001b[1;36m7\u001b[0m\u001b[1;33m]\u001b[0m \u001b[1;33m=\u001b[0m \u001b[1;34m\"d\"\u001b[0m\u001b[1;33m\u001b[0m\u001b[1;33m\u001b[0m\u001b[0m\n\u001b[0m",
      "\u001b[1;31mTypeError\u001b[0m: 'str' object does not support item assignment"
     ]
    }
   ],
   "source": [
    "# creat error as string immutable\n",
    "string[7] = \"d\""
   ]
  },
  {
   "cell_type": "markdown",
   "metadata": {},
   "source": [
    "Datatype-Sets"
   ]
  },
  {
   "cell_type": "code",
   "execution_count": 30,
   "metadata": {},
   "outputs": [
    {
     "name": "stdout",
     "output_type": "stream",
     "text": [
      "a = {2, 3, 5, 7, 9}. it is a type of <class 'set'>\n"
     ]
    }
   ],
   "source": [
    "a = {5,2,9,2,7,3}\n",
    "print(f\"a = {a}. it is a type of {type(a)}\")"
   ]
  },
  {
   "cell_type": "code",
   "execution_count": 33,
   "metadata": {},
   "outputs": [
    {
     "name": "stdout",
     "output_type": "stream",
     "text": [
      "a =  {1, 2, 4, 'thisw is a test of set', 6, 7.5, 'number test', 'explaining the order'}\n",
      "<class 'set'>\n"
     ]
    }
   ],
   "source": [
    "a = {\"thisw is a test of set\",\"number test\",\"explaining the order\",1,4,6,2,7.5}\n",
    "print(\"a = \",a)\n",
    "print(type(a))"
   ]
  },
  {
   "cell_type": "code",
   "execution_count": 34,
   "metadata": {},
   "outputs": [
    {
     "name": "stdout",
     "output_type": "stream",
     "text": [
      "a is {1, 2, 3}\n"
     ]
    }
   ],
   "source": [
    "a ={1,2,2,2,3,3,3,3}\n",
    "print(\"a is\",a)"
   ]
  },
  {
   "cell_type": "code",
   "execution_count": 37,
   "metadata": {},
   "outputs": [
    {
     "name": "stdout",
     "output_type": "stream",
     "text": [
      "B intersection A {2, 4, 6}\n",
      "B intersection C {6}\n",
      "A intersection C {1, 3, 6}\n",
      "B intersection (A,C) {6}\n"
     ]
    }
   ],
   "source": [
    "# union and intersection operation\n",
    "\n",
    "A = {1,2,3,4,5,6}\n",
    "B = {2,4,6,8}\n",
    "C = {1,3,6,9}\n",
    "\n",
    "print(\"B intersection A\",B.intersection(A))\n",
    "print(\"B intersection C\",B.intersection(C))\n",
    "print(\"A intersection C\",A.intersection(C))\n",
    "print(\"B intersection (A,C)\",B.intersection(A,C))"
   ]
  },
  {
   "cell_type": "code",
   "execution_count": 38,
   "metadata": {},
   "outputs": [
    {
     "name": "stdout",
     "output_type": "stream",
     "text": [
      "B union A {1, 2, 3, 4, 5, 6, 8}\n",
      "B union C {1, 2, 3, 4, 6, 8, 9}\n",
      "A union C {1, 2, 3, 4, 5, 6, 9}\n",
      "B union (A,C) {1, 2, 3, 4, 5, 6, 8, 9}\n"
     ]
    }
   ],
   "source": [
    "print(\"B union A\",B.union(A))\n",
    "print(\"B union C\",B.union(C))\n",
    "print(\"A union C\",A.union(C))\n",
    "print(\"B union (A,C)\",B.union(A,C))"
   ]
  },
  {
   "cell_type": "markdown",
   "metadata": {},
   "source": [
    "Datatype-python Dictionary"
   ]
  },
  {
   "cell_type": "code",
   "execution_count": 40,
   "metadata": {},
   "outputs": [
    {
     "name": "stdout",
     "output_type": "stream",
     "text": [
      "data type of dic is  {1: 'value', 'key': 2}\n"
     ]
    }
   ],
   "source": [
    "dic = {1:\"value\",\"key\":2}\n",
    "print(\"data type of dic is \",dic)"
   ]
  },
  {
   "cell_type": "code",
   "execution_count": 44,
   "metadata": {},
   "outputs": [
    {
     "name": "stdout",
     "output_type": "stream",
     "text": [
      "dic[1] =  value\n",
      "dic[key] =  2\n"
     ]
    }
   ],
   "source": [
    "print(\"dic[1] = \",dic[1])\n",
    "print(\"dic[key] = \",dic[\"key\"])"
   ]
  },
  {
   "cell_type": "code",
   "execution_count": 45,
   "metadata": {},
   "outputs": [
    {
     "ename": "KeyError",
     "evalue": "2",
     "output_type": "error",
     "traceback": [
      "\u001b[1;31m---------------------------------------------------------------------------\u001b[0m",
      "\u001b[1;31mKeyError\u001b[0m                                  Traceback (most recent call last)",
      "\u001b[1;32m<ipython-input-45-71ca76aa3dec>\u001b[0m in \u001b[0;36m<module>\u001b[1;34m\u001b[0m\n\u001b[0;32m      1\u001b[0m \u001b[1;31m# generate error because dic can access with index\u001b[0m\u001b[1;33m\u001b[0m\u001b[1;33m\u001b[0m\u001b[1;33m\u001b[0m\u001b[0m\n\u001b[1;32m----> 2\u001b[1;33m \u001b[0mprint\u001b[0m\u001b[1;33m(\u001b[0m\u001b[0mdic\u001b[0m\u001b[1;33m[\u001b[0m\u001b[1;36m2\u001b[0m\u001b[1;33m]\u001b[0m\u001b[1;33m)\u001b[0m\u001b[1;33m\u001b[0m\u001b[1;33m\u001b[0m\u001b[0m\n\u001b[0m",
      "\u001b[1;31mKeyError\u001b[0m: 2"
     ]
    }
   ],
   "source": [
    "# generate error because dic can access with index\n",
    "print(dic[2])"
   ]
  },
  {
   "cell_type": "markdown",
   "metadata": {},
   "source": [
    "conversion between the datatypes"
   ]
  },
  {
   "cell_type": "markdown",
   "metadata": {},
   "source": [
    "implicit and explicit"
   ]
  },
  {
   "cell_type": "code",
   "execution_count": null,
   "metadata": {},
   "outputs": [],
   "source": []
  },
  {
   "cell_type": "code",
   "execution_count": null,
   "metadata": {},
   "outputs": [],
   "source": []
  }
 ],
 "metadata": {
  "kernelspec": {
   "display_name": "Python 3",
   "language": "python",
   "name": "python3"
  },
  "language_info": {
   "codemirror_mode": {
    "name": "ipython",
    "version": 3
   },
   "file_extension": ".py",
   "mimetype": "text/x-python",
   "name": "python",
   "nbconvert_exporter": "python",
   "pygments_lexer": "ipython3",
   "version": "3.7.4"
  }
 },
 "nbformat": 4,
 "nbformat_minor": 2
}
